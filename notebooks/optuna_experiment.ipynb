import optuna
import pandas as pd
import seaborn as sns
import matplotlib.pyplot as plt
from catboost import CatBoostClassifier
from sklearn.model_selection import train_test_split
from sklearn.metrics import accuracy_score

# Load dataset
df = pd.read_csv("../data/train.csv")
df.drop(["PassengerId", "Name"], axis=1, inplace=True, errors="ignore")

# Handle missing values
for col in ["Age", "RoomService", "FoodCourt", "ShoppingMall", "Spa", "VRDeck"]:
    df[col] = df[col].fillna(df[col].mean())

for col in ["HomePlanet", "CryoSleep", "Destination", "VIP"]:
    df[col] = df[col].fillna(df[col].mode()[0])

# Feature Engineering
df[["Deck", "CabinNumber", "Side"]] = df["Cabin"].str.split("/", expand=True)
df["CabinNumber"] = pd.to_numeric(df["CabinNumber"], errors="coerce").fillna(0)
df.drop("Cabin", axis=1, inplace=True)

df = pd.get_dummies(df, columns=["HomePlanet", "Destination", "CryoSleep", "VIP", "Deck", "Side"], drop_first=True)

# Separate features and target
X = df.drop("Transported", axis=1)
y = df["Transported"]

X_train, X_val, y_train, y_val = train_test_split(X, y, test_size=0.2, random_state=42)

# Optuna optimization function
def objective(trial):
    params = {
        "iterations": trial.suggest_int("iterations", 100, 1000),
        "depth": trial.suggest_int("depth", 3, 10),
        "learning_rate": trial.suggest_float("learning_rate", 0.01, 0.3),
        "l2_leaf_reg": trial.suggest_float("l2_leaf_reg", 1e-5, 10),
        "border_count": trial.suggest_int("border_count", 32, 255),
        "random_strength": trial.suggest_float("random_strength", 1e-9, 10),
    }
    
    model = CatBoostClassifier(**params, verbose=0)
    model.fit(X_train, y_train)
    y_pred = model.predict(X_val)
    
    return accuracy_score(y_val, y_pred)

# Run Optuna study
study = optuna.create_study(direction="maximize")
study.optimize(objective, n_trials=50)

# Print best parameters
print("Best parameters:", study.best_params)
print("Best accuracy:", study.best_value)

# Plot Optuna results
optuna.visualization.matplotlib.plot_optimization_history(study)
plt.show()
